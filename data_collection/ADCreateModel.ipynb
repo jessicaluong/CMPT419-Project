{
 "cells": [
  {
   "cell_type": "markdown",
   "metadata": {},
   "source": [
    "# Preprocess and Load Data"
   ]
  },
  {
   "cell_type": "code",
   "execution_count": 1,
   "metadata": {},
   "outputs": [],
   "source": [
    "import os\n",
    "import cv2\n",
    "import numpy as np\n",
    "import mediapipe as mp\n",
    "from sklearn.model_selection import train_test_split\n",
    "from tensorflow.keras.utils import to_categorical"
   ]
  },
  {
   "cell_type": "code",
   "execution_count": 2,
   "metadata": {},
   "outputs": [],
   "source": [
    "load_from_npy = False # whether you already have data stored in a npy file\n",
    "\n",
    "# Path for exported data, numpy arrays\n",
    "DATA_PATH = os.path.join('MP_Data') \n",
    "\n",
    "# Actions that we try to detect\n",
    "actions = np.array(['raise_hand', 'thumbs_up', 'thumbs_down', 'cheer', 'cross_arms', 'clap', 'neutral'])\n",
    "\n",
    "# Thirty videos worth of data\n",
    "no_sequences = 30\n",
    "\n",
    "# Videos are going to be 30 frames in length\n",
    "sequence_length = 30"
   ]
  },
  {
   "cell_type": "code",
   "execution_count": 3,
   "metadata": {},
   "outputs": [],
   "source": [
    "label_map = {label:num for num, label in enumerate(actions)}"
   ]
  },
  {
   "cell_type": "code",
   "execution_count": 4,
   "metadata": {},
   "outputs": [],
   "source": [
    "if not load_from_npy:\n",
    "\n",
    "    sequences, labels = [], []\n",
    "    skip_sequence = False\n",
    "    for action in actions:\n",
    "        action_path = os.path.join(DATA_PATH, action)\n",
    "        if not os.path.exists(action_path):\n",
    "            continue\n",
    "        for sequence in np.array(os.listdir(action_path)).astype(int):\n",
    "            window = []\n",
    "            skip_sequence = False\n",
    "            for frame_num in range(sequence_length):\n",
    "                sequence_path = os.path.join(action_path, str(sequence))\n",
    "                # 1. make sure path exists\n",
    "                if not os.path.exists(sequence_path):\n",
    "                    print(\"1\")\n",
    "                    skip_sequence = True\n",
    "                    break\n",
    "                # 2. make sure none are empty\n",
    "                try:\n",
    "                    res = np.load(os.path.join(sequence_path, \"{}.npy\".format(frame_num)))\n",
    "                    window.append(res)\n",
    "                except:\n",
    "#                     print(f\"Cannot read {sequence_path} number {frame_num}\")\n",
    "                    print(\"2\")\n",
    "                    skip_sequence = True\n",
    "                    break\n",
    "            if not skip_sequence:\n",
    "                # 3. make sure there is at least 30 frames\n",
    "                if len(window) == 30:\n",
    "                    sequences.append(window)\n",
    "                    labels.append(label_map[action])\n",
    "                    continue\n",
    "                print(\"3\")"
   ]
  },
  {
   "cell_type": "code",
   "execution_count": 5,
   "metadata": {},
   "outputs": [
    {
     "data": {
      "text/plain": [
       "(210, 30, 258)"
      ]
     },
     "execution_count": 5,
     "metadata": {},
     "output_type": "execute_result"
    }
   ],
   "source": [
    "np.array(sequences).shape"
   ]
  },
  {
   "cell_type": "code",
   "execution_count": 6,
   "metadata": {},
   "outputs": [],
   "source": [
    "save_to_numpy = False\n",
    "if save_to_numpy and not load_from_numpy:\n",
    "    np.save('action_detect_X.npy', sequences)\n",
    "    np.save('action_detect_y.npy', labels)"
   ]
  },
  {
   "cell_type": "code",
   "execution_count": 7,
   "metadata": {},
   "outputs": [],
   "source": [
    "if not load_from_npy:\n",
    "    X = np.array(sequences)\n",
    "else:\n",
    "    X = np.load('action_detect.npy')"
   ]
  },
  {
   "cell_type": "code",
   "execution_count": 8,
   "metadata": {},
   "outputs": [],
   "source": [
    "if not load_from_npy:\n",
    "    y = to_categorical(labels).astype(int)\n",
    "else:\n",
    "    y = np.load('action_detect_y')"
   ]
  },
  {
   "cell_type": "code",
   "execution_count": 9,
   "metadata": {},
   "outputs": [],
   "source": [
    "X_train, X_test, y_train, y_test = train_test_split(X, y, test_size=0.15)"
   ]
  },
  {
   "cell_type": "markdown",
   "metadata": {},
   "source": [
    "# Build and Train Model"
   ]
  },
  {
   "cell_type": "code",
   "execution_count": 10,
   "metadata": {},
   "outputs": [],
   "source": [
    "from tensorflow.keras.models import Sequential\n",
    "from tensorflow.keras.layers import LSTM, Dense, Input\n",
    "from tensorflow.keras.callbacks import TensorBoard"
   ]
  },
  {
   "cell_type": "code",
   "execution_count": 11,
   "metadata": {},
   "outputs": [],
   "source": [
    "log_dir = os.path.join('Logs')\n",
    "tb_callback = TensorBoard(log_dir=log_dir)\n",
    "# might remove"
   ]
  },
  {
   "cell_type": "code",
   "execution_count": 12,
   "metadata": {},
   "outputs": [],
   "source": [
    "model = Sequential()\n",
    "model.add(Input(shape=(30,258)))\n",
    "model.add(LSTM(64, return_sequences=True, activation='relu'))\n",
    "model.add(LSTM(128, return_sequences=True, activation='relu'))\n",
    "model.add(LSTM(64, return_sequences=False, activation='relu'))\n",
    "model.add(Dense(64, activation='relu'))\n",
    "model.add(Dense(32, activation='relu'))\n",
    "model.add(Dense(actions.shape[0], activation='softmax'))"
   ]
  },
  {
   "cell_type": "code",
   "execution_count": 13,
   "metadata": {},
   "outputs": [],
   "source": [
    "model.compile(optimizer='Adam', loss='categorical_crossentropy', metrics=['categorical_accuracy'])"
   ]
  },
  {
   "cell_type": "code",
   "execution_count": 14,
   "metadata": {
    "scrolled": true
   },
   "outputs": [
    {
     "name": "stdout",
     "output_type": "stream",
     "text": [
      "Epoch 1/10\n",
      "\u001b[1m6/6\u001b[0m \u001b[32m━━━━━━━━━━━━━━━━━━━━\u001b[0m\u001b[37m\u001b[0m \u001b[1m2s\u001b[0m 17ms/step - categorical_accuracy: 0.0901 - loss: 1.9087\n",
      "Epoch 2/10\n",
      "\u001b[1m6/6\u001b[0m \u001b[32m━━━━━━━━━━━━━━━━━━━━\u001b[0m\u001b[37m\u001b[0m \u001b[1m0s\u001b[0m 14ms/step - categorical_accuracy: 0.2571 - loss: 1.8636\n",
      "Epoch 3/10\n",
      "\u001b[1m6/6\u001b[0m \u001b[32m━━━━━━━━━━━━━━━━━━━━\u001b[0m\u001b[37m\u001b[0m \u001b[1m0s\u001b[0m 15ms/step - categorical_accuracy: 0.3639 - loss: 1.6809\n",
      "Epoch 4/10\n",
      "\u001b[1m6/6\u001b[0m \u001b[32m━━━━━━━━━━━━━━━━━━━━\u001b[0m\u001b[37m\u001b[0m \u001b[1m0s\u001b[0m 15ms/step - categorical_accuracy: 0.2653 - loss: 1.6761\n",
      "Epoch 5/10\n",
      "\u001b[1m6/6\u001b[0m \u001b[32m━━━━━━━━━━━━━━━━━━━━\u001b[0m\u001b[37m\u001b[0m \u001b[1m0s\u001b[0m 13ms/step - categorical_accuracy: 0.4689 - loss: 1.4608\n",
      "Epoch 6/10\n",
      "\u001b[1m6/6\u001b[0m \u001b[32m━━━━━━━━━━━━━━━━━━━━\u001b[0m\u001b[37m\u001b[0m \u001b[1m0s\u001b[0m 13ms/step - categorical_accuracy: 0.4410 - loss: 1.2311\n",
      "Epoch 7/10\n",
      "\u001b[1m6/6\u001b[0m \u001b[32m━━━━━━━━━━━━━━━━━━━━\u001b[0m\u001b[37m\u001b[0m \u001b[1m0s\u001b[0m 13ms/step - categorical_accuracy: 0.5664 - loss: 1.1376\n",
      "Epoch 8/10\n",
      "\u001b[1m6/6\u001b[0m \u001b[32m━━━━━━━━━━━━━━━━━━━━\u001b[0m\u001b[37m\u001b[0m \u001b[1m0s\u001b[0m 13ms/step - categorical_accuracy: 0.6223 - loss: 1.0226\n",
      "Epoch 9/10\n",
      "\u001b[1m6/6\u001b[0m \u001b[32m━━━━━━━━━━━━━━━━━━━━\u001b[0m\u001b[37m\u001b[0m \u001b[1m0s\u001b[0m 13ms/step - categorical_accuracy: 0.6238 - loss: 0.9115\n",
      "Epoch 10/10\n",
      "\u001b[1m6/6\u001b[0m \u001b[32m━━━━━━━━━━━━━━━━━━━━\u001b[0m\u001b[37m\u001b[0m \u001b[1m0s\u001b[0m 13ms/step - categorical_accuracy: 0.6800 - loss: 1.0884\n"
     ]
    }
   ],
   "source": [
    "model.fit(X_train, y_train, epochs=10, callbacks=[tb_callback])\n",
    "\n",
    "save_model = False\n",
    "if save_model:\n",
    "    model.save('action.keras')"
   ]
  },
  {
   "cell_type": "markdown",
   "metadata": {},
   "source": [
    "# Statistics"
   ]
  },
  {
   "cell_type": "code",
   "execution_count": 15,
   "metadata": {},
   "outputs": [],
   "source": [
    "from sklearn.metrics import multilabel_confusion_matrix, accuracy_score, classification_report, f1_score"
   ]
  },
  {
   "cell_type": "code",
   "execution_count": 16,
   "metadata": {},
   "outputs": [
    {
     "name": "stdout",
     "output_type": "stream",
     "text": [
      "\u001b[1m1/1\u001b[0m \u001b[32m━━━━━━━━━━━━━━━━━━━━\u001b[0m\u001b[37m\u001b[0m \u001b[1m0s\u001b[0m 197ms/step\n"
     ]
    }
   ],
   "source": [
    "y_prob = model.predict(X_test)"
   ]
  },
  {
   "cell_type": "code",
   "execution_count": 17,
   "metadata": {},
   "outputs": [],
   "source": [
    "y_true = np.argmax(y_test, axis=1).tolist()\n",
    "y_pred = np.argmax(y_prob, axis=1).tolist()"
   ]
  },
  {
   "cell_type": "code",
   "execution_count": 18,
   "metadata": {},
   "outputs": [
    {
     "data": {
      "text/plain": [
       "0.53125"
      ]
     },
     "execution_count": 18,
     "metadata": {},
     "output_type": "execute_result"
    }
   ],
   "source": [
    "accuracy_score(y_true, y_pred)"
   ]
  },
  {
   "cell_type": "code",
   "execution_count": 29,
   "metadata": {},
   "outputs": [
    {
     "name": "stderr",
     "output_type": "stream",
     "text": [
      "C:\\Users\\Chanson\\anaconda3\\lib\\site-packages\\sklearn\\metrics\\_classification.py:1344: UndefinedMetricWarning: Precision and F-score are ill-defined and being set to 0.0 in labels with no predicted samples. Use `zero_division` parameter to control this behavior.\n",
      "  _warn_prf(average, modifier, msg_start, len(result))\n",
      "C:\\Users\\Chanson\\anaconda3\\lib\\site-packages\\sklearn\\metrics\\_classification.py:1344: UndefinedMetricWarning: Precision and F-score are ill-defined and being set to 0.0 in labels with no predicted samples. Use `zero_division` parameter to control this behavior.\n",
      "  _warn_prf(average, modifier, msg_start, len(result))\n",
      "C:\\Users\\Chanson\\anaconda3\\lib\\site-packages\\sklearn\\metrics\\_classification.py:1344: UndefinedMetricWarning: Precision and F-score are ill-defined and being set to 0.0 in labels with no predicted samples. Use `zero_division` parameter to control this behavior.\n",
      "  _warn_prf(average, modifier, msg_start, len(result))\n"
     ]
    },
    {
     "data": {
      "text/plain": [
       "'              precision    recall  f1-score   support\\n\\n           0       0.00      0.00      0.00         4\\n           1       0.00      0.00      0.00         3\\n           2       0.00      0.00      0.00         4\\n           3       1.00      0.80      0.89         5\\n           4       1.00      1.00      1.00         6\\n           5       0.17      1.00      0.29         3\\n           6       1.00      0.57      0.73         7\\n\\n    accuracy                           0.53        32\\n   macro avg       0.45      0.48      0.41        32\\nweighted avg       0.58      0.53      0.51        32\\n'"
      ]
     },
     "execution_count": 29,
     "metadata": {},
     "output_type": "execute_result"
    }
   ],
   "source": [
    "classification_report(y_true, y_pred)"
   ]
  },
  {
   "cell_type": "code",
   "execution_count": null,
   "metadata": {},
   "outputs": [],
   "source": [
    "from sklearn.metrics import confusion_matrix, ConfusionMatrixDisplay\n",
    "cm = confusion_matrix(y_true, y_pred)\n",
    "disp = ConfusionMatrixDisplay(confusion_matrix=cm)\n",
    "disp.plot(cmap='GnBu')\n",
    "plt.show()"
   ]
  },
  {
   "cell_type": "markdown",
   "metadata": {},
   "source": [
    "# Test in Real Time"
   ]
  },
  {
   "cell_type": "code",
   "execution_count": 20,
   "metadata": {},
   "outputs": [],
   "source": [
    "from tensorflow.keras.models import load_model\n",
    "model = load_model('action.keras')"
   ]
  },
  {
   "cell_type": "code",
   "execution_count": 21,
   "metadata": {},
   "outputs": [],
   "source": [
    "mp_holistic = mp.solutions.holistic # Holistic model\n",
    "mp_drawing = mp.solutions.drawing_utils # Drawing utilities\n",
    "\n",
    "pose = np.zeros(132)\n",
    "face = np.zeros(1404)\n",
    "lh = np.zeros(21*3)\n",
    "rh = np.zeros(21*3)"
   ]
  },
  {
   "cell_type": "code",
   "execution_count": 22,
   "metadata": {},
   "outputs": [],
   "source": [
    "def mediapipe_detection(image, model):\n",
    "    image = cv2.cvtColor(image, cv2.COLOR_BGR2RGB) # COLOR CONVERSION BGR 2 RGB\n",
    "    image.flags.writeable = False                  # Image is no longer writeable\n",
    "    results = model.process(image)                 # Make prediction\n",
    "    image.flags.writeable = True                   # Image is now writeable \n",
    "    image = cv2.cvtColor(image, cv2.COLOR_RGB2BGR) # COLOR COVERSION RGB 2 BGR\n",
    "    return image, results"
   ]
  },
  {
   "cell_type": "code",
   "execution_count": 23,
   "metadata": {},
   "outputs": [],
   "source": [
    "def draw_landmarks(image, results):\n",
    "    mp_drawing.draw_landmarks(image, results.face_landmarks, mp_holistic.FACEMESH_CONTOURS) # Draw face connections\n",
    "    mp_drawing.draw_landmarks(image, results.pose_landmarks, mp_holistic.POSE_CONNECTIONS) # Draw pose connections\n",
    "    mp_drawing.draw_landmarks(image, results.left_hand_landmarks, mp_holistic.HAND_CONNECTIONS) # Draw left hand connections\n",
    "    mp_drawing.draw_landmarks(image, results.right_hand_landmarks, mp_holistic.HAND_CONNECTIONS) # Draw right hand connections"
   ]
  },
  {
   "cell_type": "code",
   "execution_count": 24,
   "metadata": {},
   "outputs": [],
   "source": [
    "def draw_styled_landmarks(image, results):\n",
    "    # Draw face connections\n",
    "    mp_drawing.draw_landmarks(image, results.face_landmarks, mp_holistic.FACEMESH_CONTOURS, \n",
    "                             mp_drawing.DrawingSpec(color=(80,110,10), thickness=1, circle_radius=1), \n",
    "                             mp_drawing.DrawingSpec(color=(80,256,121), thickness=1, circle_radius=1)\n",
    "                             ) \n",
    "    # Draw pose connections\n",
    "    mp_drawing.draw_landmarks(image, results.pose_landmarks, mp_holistic.POSE_CONNECTIONS,\n",
    "                             mp_drawing.DrawingSpec(color=(80,22,10), thickness=2, circle_radius=4), \n",
    "                             mp_drawing.DrawingSpec(color=(80,44,121), thickness=2, circle_radius=2)\n",
    "                             ) \n",
    "    # Draw left hand connections\n",
    "    mp_drawing.draw_landmarks(image, results.left_hand_landmarks, mp_holistic.HAND_CONNECTIONS, \n",
    "                             mp_drawing.DrawingSpec(color=(121,22,76), thickness=2, circle_radius=4), \n",
    "                             mp_drawing.DrawingSpec(color=(121,44,250), thickness=2, circle_radius=2)\n",
    "                             ) \n",
    "    # Draw right hand connections  \n",
    "    mp_drawing.draw_landmarks(image, results.right_hand_landmarks, mp_holistic.HAND_CONNECTIONS, \n",
    "                             mp_drawing.DrawingSpec(color=(245,117,66), thickness=2, circle_radius=4), \n",
    "                             mp_drawing.DrawingSpec(color=(245,66,230), thickness=2, circle_radius=2)\n",
    "                             ) "
   ]
  },
  {
   "cell_type": "code",
   "execution_count": 25,
   "metadata": {},
   "outputs": [],
   "source": [
    "def extract_keypoints(results):\n",
    "    pose = np.array([[res.x, res.y, res.z, res.visibility] for res in results.pose_landmarks.landmark]).flatten() if results.pose_landmarks else np.zeros(33*4)\n",
    "#     face = np.array([[res.x, res.y, res.z] for res in results.face_landmarks.landmark]).flatten() if results.face_landmarks else np.zeros(468*3)\n",
    "    lh = np.array([[res.x, res.y, res.z] for res in results.left_hand_landmarks.landmark]).flatten() if results.left_hand_landmarks else np.zeros(21*3)\n",
    "    rh = np.array([[res.x, res.y, res.z] for res in results.right_hand_landmarks.landmark]).flatten() if results.right_hand_landmarks else np.zeros(21*3)\n",
    "    return np.concatenate([pose, lh, rh])\n",
    "#     return np.concatenate([pose, face, lh, rh])"
   ]
  },
  {
   "cell_type": "code",
   "execution_count": 26,
   "metadata": {},
   "outputs": [],
   "source": [
    "# change the colors\n",
    "colors = [(245,117,16), (117,245,16), (16,117,245), (245,117,16), (117,245,16), (16,117,245), (245,117,16), (117,245,16), (16,117,245)]\n",
    "def prob_viz(res, actions, input_frame, colors):\n",
    "    output_frame = input_frame.copy()\n",
    "    for num, prob in enumerate(res):\n",
    "        cv2.rectangle(output_frame, (0,60+num*40), (int(prob*100), 90+num*40), colors[num], -1)\n",
    "        cv2.putText(output_frame, actions[num], (0, 85+num*40), cv2.FONT_HERSHEY_SIMPLEX, 1, (255,255,255), 2, cv2.LINE_AA)\n",
    "        \n",
    "    return output_frame"
   ]
  },
  {
   "cell_type": "code",
   "execution_count": 31,
   "metadata": {},
   "outputs": [
    {
     "name": "stdout",
     "output_type": "stream",
     "text": [
      "<class 'mediapipe.python.solution_base.SolutionOutputs'>\n",
      "<class 'mediapipe.python.solution_base.SolutionOutputs'>\n",
      "<class 'mediapipe.python.solution_base.SolutionOutputs'>\n",
      "<class 'mediapipe.python.solution_base.SolutionOutputs'>\n",
      "<class 'mediapipe.python.solution_base.SolutionOutputs'>\n",
      "<class 'mediapipe.python.solution_base.SolutionOutputs'>\n",
      "<class 'mediapipe.python.solution_base.SolutionOutputs'>\n",
      "<class 'mediapipe.python.solution_base.SolutionOutputs'>\n",
      "<class 'mediapipe.python.solution_base.SolutionOutputs'>\n",
      "<class 'mediapipe.python.solution_base.SolutionOutputs'>\n",
      "<class 'mediapipe.python.solution_base.SolutionOutputs'>\n",
      "<class 'mediapipe.python.solution_base.SolutionOutputs'>\n",
      "<class 'mediapipe.python.solution_base.SolutionOutputs'>\n",
      "<class 'mediapipe.python.solution_base.SolutionOutputs'>\n",
      "<class 'mediapipe.python.solution_base.SolutionOutputs'>\n",
      "<class 'mediapipe.python.solution_base.SolutionOutputs'>\n",
      "<class 'mediapipe.python.solution_base.SolutionOutputs'>\n",
      "<class 'mediapipe.python.solution_base.SolutionOutputs'>\n",
      "<class 'mediapipe.python.solution_base.SolutionOutputs'>\n",
      "<class 'mediapipe.python.solution_base.SolutionOutputs'>\n",
      "<class 'mediapipe.python.solution_base.SolutionOutputs'>\n",
      "<class 'mediapipe.python.solution_base.SolutionOutputs'>\n",
      "<class 'mediapipe.python.solution_base.SolutionOutputs'>\n",
      "<class 'mediapipe.python.solution_base.SolutionOutputs'>\n",
      "<class 'mediapipe.python.solution_base.SolutionOutputs'>\n",
      "<class 'mediapipe.python.solution_base.SolutionOutputs'>\n",
      "<class 'mediapipe.python.solution_base.SolutionOutputs'>\n",
      "<class 'mediapipe.python.solution_base.SolutionOutputs'>\n",
      "<class 'mediapipe.python.solution_base.SolutionOutputs'>\n",
      "<class 'mediapipe.python.solution_base.SolutionOutputs'>\n",
      "raise_hand\n",
      "<class 'mediapipe.python.solution_base.SolutionOutputs'>\n",
      "raise_hand\n",
      "<class 'mediapipe.python.solution_base.SolutionOutputs'>\n",
      "raise_hand\n",
      "<class 'mediapipe.python.solution_base.SolutionOutputs'>\n",
      "raise_hand\n",
      "<class 'mediapipe.python.solution_base.SolutionOutputs'>\n",
      "thumbs_down\n",
      "<class 'mediapipe.python.solution_base.SolutionOutputs'>\n",
      "thumbs_down\n",
      "<class 'mediapipe.python.solution_base.SolutionOutputs'>\n",
      "thumbs_down\n",
      "<class 'mediapipe.python.solution_base.SolutionOutputs'>\n",
      "thumbs_down\n",
      "<class 'mediapipe.python.solution_base.SolutionOutputs'>\n",
      "thumbs_down\n",
      "<class 'mediapipe.python.solution_base.SolutionOutputs'>\n",
      "thumbs_down\n",
      "<class 'mediapipe.python.solution_base.SolutionOutputs'>\n",
      "thumbs_down\n",
      "<class 'mediapipe.python.solution_base.SolutionOutputs'>\n",
      "raise_hand\n",
      "<class 'mediapipe.python.solution_base.SolutionOutputs'>\n",
      "raise_hand\n",
      "<class 'mediapipe.python.solution_base.SolutionOutputs'>\n",
      "raise_hand\n",
      "<class 'mediapipe.python.solution_base.SolutionOutputs'>\n",
      "raise_hand\n",
      "<class 'mediapipe.python.solution_base.SolutionOutputs'>\n",
      "raise_hand\n",
      "<class 'mediapipe.python.solution_base.SolutionOutputs'>\n",
      "raise_hand\n",
      "<class 'mediapipe.python.solution_base.SolutionOutputs'>\n",
      "thumbs_down\n",
      "<class 'mediapipe.python.solution_base.SolutionOutputs'>\n",
      "thumbs_down\n",
      "<class 'mediapipe.python.solution_base.SolutionOutputs'>\n",
      "thumbs_down\n",
      "<class 'mediapipe.python.solution_base.SolutionOutputs'>\n",
      "thumbs_down\n",
      "<class 'mediapipe.python.solution_base.SolutionOutputs'>\n",
      "thumbs_down\n",
      "<class 'mediapipe.python.solution_base.SolutionOutputs'>\n",
      "thumbs_down\n",
      "<class 'mediapipe.python.solution_base.SolutionOutputs'>\n",
      "thumbs_down\n",
      "<class 'mediapipe.python.solution_base.SolutionOutputs'>\n",
      "thumbs_down\n",
      "<class 'mediapipe.python.solution_base.SolutionOutputs'>\n",
      "thumbs_down\n",
      "<class 'mediapipe.python.solution_base.SolutionOutputs'>\n",
      "thumbs_down\n",
      "<class 'mediapipe.python.solution_base.SolutionOutputs'>\n",
      "thumbs_down\n",
      "<class 'mediapipe.python.solution_base.SolutionOutputs'>\n",
      "thumbs_down\n",
      "<class 'mediapipe.python.solution_base.SolutionOutputs'>\n",
      "thumbs_down\n",
      "<class 'mediapipe.python.solution_base.SolutionOutputs'>\n",
      "thumbs_down\n",
      "<class 'mediapipe.python.solution_base.SolutionOutputs'>\n",
      "thumbs_down\n",
      "<class 'mediapipe.python.solution_base.SolutionOutputs'>\n",
      "thumbs_down\n",
      "<class 'mediapipe.python.solution_base.SolutionOutputs'>\n",
      "thumbs_down\n",
      "<class 'mediapipe.python.solution_base.SolutionOutputs'>\n",
      "thumbs_down\n",
      "<class 'mediapipe.python.solution_base.SolutionOutputs'>\n",
      "thumbs_down\n",
      "<class 'mediapipe.python.solution_base.SolutionOutputs'>\n",
      "thumbs_down\n",
      "<class 'mediapipe.python.solution_base.SolutionOutputs'>\n",
      "thumbs_down\n",
      "<class 'mediapipe.python.solution_base.SolutionOutputs'>\n",
      "thumbs_down\n",
      "<class 'mediapipe.python.solution_base.SolutionOutputs'>\n",
      "thumbs_down\n",
      "<class 'mediapipe.python.solution_base.SolutionOutputs'>\n",
      "thumbs_down\n",
      "<class 'mediapipe.python.solution_base.SolutionOutputs'>\n",
      "thumbs_down\n",
      "<class 'mediapipe.python.solution_base.SolutionOutputs'>\n",
      "thumbs_down\n",
      "<class 'mediapipe.python.solution_base.SolutionOutputs'>\n",
      "thumbs_down\n",
      "<class 'mediapipe.python.solution_base.SolutionOutputs'>\n",
      "thumbs_down\n",
      "<class 'mediapipe.python.solution_base.SolutionOutputs'>\n",
      "thumbs_down\n",
      "<class 'mediapipe.python.solution_base.SolutionOutputs'>\n",
      "thumbs_down\n",
      "<class 'mediapipe.python.solution_base.SolutionOutputs'>\n",
      "thumbs_down\n",
      "<class 'mediapipe.python.solution_base.SolutionOutputs'>\n",
      "thumbs_down\n",
      "<class 'mediapipe.python.solution_base.SolutionOutputs'>\n",
      "thumbs_down\n",
      "<class 'mediapipe.python.solution_base.SolutionOutputs'>\n",
      "raise_hand\n",
      "<class 'mediapipe.python.solution_base.SolutionOutputs'>\n",
      "raise_hand\n",
      "<class 'mediapipe.python.solution_base.SolutionOutputs'>\n",
      "raise_hand\n",
      "<class 'mediapipe.python.solution_base.SolutionOutputs'>\n",
      "raise_hand\n",
      "<class 'mediapipe.python.solution_base.SolutionOutputs'>\n",
      "raise_hand\n",
      "<class 'mediapipe.python.solution_base.SolutionOutputs'>\n",
      "raise_hand\n",
      "<class 'mediapipe.python.solution_base.SolutionOutputs'>\n",
      "raise_hand\n",
      "<class 'mediapipe.python.solution_base.SolutionOutputs'>\n",
      "raise_hand\n",
      "<class 'mediapipe.python.solution_base.SolutionOutputs'>\n",
      "raise_hand\n",
      "<class 'mediapipe.python.solution_base.SolutionOutputs'>\n",
      "raise_hand\n",
      "<class 'mediapipe.python.solution_base.SolutionOutputs'>\n",
      "raise_hand\n",
      "<class 'mediapipe.python.solution_base.SolutionOutputs'>\n",
      "raise_hand\n",
      "<class 'mediapipe.python.solution_base.SolutionOutputs'>\n",
      "raise_hand\n",
      "<class 'mediapipe.python.solution_base.SolutionOutputs'>\n",
      "clap\n",
      "<class 'mediapipe.python.solution_base.SolutionOutputs'>\n",
      "clap\n",
      "<class 'mediapipe.python.solution_base.SolutionOutputs'>\n",
      "clap\n",
      "<class 'mediapipe.python.solution_base.SolutionOutputs'>\n",
      "clap\n",
      "<class 'mediapipe.python.solution_base.SolutionOutputs'>\n",
      "clap\n",
      "<class 'mediapipe.python.solution_base.SolutionOutputs'>\n",
      "clap\n",
      "<class 'mediapipe.python.solution_base.SolutionOutputs'>\n",
      "clap\n",
      "<class 'mediapipe.python.solution_base.SolutionOutputs'>\n",
      "clap\n",
      "<class 'mediapipe.python.solution_base.SolutionOutputs'>\n",
      "clap\n",
      "<class 'mediapipe.python.solution_base.SolutionOutputs'>\n",
      "clap\n",
      "<class 'mediapipe.python.solution_base.SolutionOutputs'>\n",
      "clap\n",
      "<class 'mediapipe.python.solution_base.SolutionOutputs'>\n",
      "clap\n",
      "<class 'mediapipe.python.solution_base.SolutionOutputs'>\n",
      "clap\n",
      "<class 'mediapipe.python.solution_base.SolutionOutputs'>\n",
      "clap\n",
      "<class 'mediapipe.python.solution_base.SolutionOutputs'>\n",
      "clap\n",
      "<class 'mediapipe.python.solution_base.SolutionOutputs'>\n",
      "clap\n",
      "<class 'mediapipe.python.solution_base.SolutionOutputs'>\n",
      "clap\n",
      "<class 'mediapipe.python.solution_base.SolutionOutputs'>\n",
      "clap\n",
      "<class 'mediapipe.python.solution_base.SolutionOutputs'>\n",
      "clap\n",
      "<class 'mediapipe.python.solution_base.SolutionOutputs'>\n",
      "clap\n",
      "<class 'mediapipe.python.solution_base.SolutionOutputs'>\n",
      "clap\n",
      "<class 'mediapipe.python.solution_base.SolutionOutputs'>\n",
      "clap\n",
      "<class 'mediapipe.python.solution_base.SolutionOutputs'>\n",
      "clap\n",
      "<class 'mediapipe.python.solution_base.SolutionOutputs'>\n",
      "clap\n",
      "<class 'mediapipe.python.solution_base.SolutionOutputs'>\n",
      "clap\n",
      "<class 'mediapipe.python.solution_base.SolutionOutputs'>\n",
      "clap\n",
      "<class 'mediapipe.python.solution_base.SolutionOutputs'>\n",
      "clap\n",
      "<class 'mediapipe.python.solution_base.SolutionOutputs'>\n",
      "clap\n"
     ]
    }
   ],
   "source": [
    "# 1. New detection variables\n",
    "sequence = []\n",
    "predictions = []\n",
    "threshold = 0.5\n",
    "\n",
    "# video = '../data/test/thumbs_up/thumbs_up9.mp4'\n",
    "# cap = cv2.VideoCapture(video)\n",
    "\n",
    "cap = cv2.VideoCapture(0, cv2.CAP_DSHOW)\n",
    "cap.set(cv2.CAP_PROP_FRAME_WIDTH, 1280)\n",
    "cap.set(cv2.CAP_PROP_FRAME_HEIGHT, 720)\n",
    "\n",
    "# Set mediapipe model \n",
    "with mp_holistic.Holistic(min_detection_confidence=0.5, min_tracking_confidence=0.5) as holistic:\n",
    "    while cap.isOpened():\n",
    "\n",
    "        # Read feed\n",
    "        ret, frame = cap.read()\n",
    "\n",
    "        # Make detections\n",
    "        image, results = mediapipe_detection(frame, holistic)\n",
    "        print(results)\n",
    "        \n",
    "        # Draw landmarks\n",
    "        draw_styled_landmarks(image, results)\n",
    "        \n",
    "        # 2. Prediction logic\n",
    "        keypoints = extract_keypoints(results)\n",
    "        sequence.append(keypoints)\n",
    "        sequence = sequence[-30:]\n",
    "        \n",
    "        word = ''\n",
    "        if len(sequence) == 30:\n",
    "            res = model.predict(np.expand_dims(sequence, axis=0), verbose=0)[0]\n",
    "            print(actions[np.argmax(res)])\n",
    "            predictions.append(np.argmax(res))\n",
    "            \n",
    "            word = actions[np.argmax(res)]\n",
    "                \n",
    "            # Viz probabilities\n",
    "            image = prob_viz(res, actions, image, colors)\n",
    "        \n",
    "        cv2.rectangle(image, (0,0), (640, 40), (245, 117, 16), -1)\n",
    "\n",
    "        cv2.putText(image, word, (3,30), \n",
    "                   cv2.FONT_HERSHEY_SIMPLEX, 1, (255, 255, 255), 2, cv2.LINE_AA)\n",
    "        \n",
    "        # Show to screen\n",
    "        cv2.imshow('OpenCV Feed', image)\n",
    "\n",
    "        # Break gracefully\n",
    "        if cv2.waitKey(10) & 0xFF == ord('q'):\n",
    "            break\n",
    "    cap.release()\n",
    "    cv2.destroyAllWindows()"
   ]
  },
  {
   "cell_type": "code",
   "execution_count": null,
   "metadata": {},
   "outputs": [],
   "source": []
  }
 ],
 "metadata": {
  "kernelspec": {
   "display_name": "Python 3 (ipykernel)",
   "language": "python",
   "name": "python3"
  },
  "language_info": {
   "codemirror_mode": {
    "name": "ipython",
    "version": 3
   },
   "file_extension": ".py",
   "mimetype": "text/x-python",
   "name": "python",
   "nbconvert_exporter": "python",
   "pygments_lexer": "ipython3",
   "version": "3.10.9"
  }
 },
 "nbformat": 4,
 "nbformat_minor": 2
}
