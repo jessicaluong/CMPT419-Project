{
 "cells": [
  {
   "cell_type": "markdown",
   "metadata": {},
   "source": [
    "# 0. Install and Import Dependencies"
   ]
  },
  {
   "cell_type": "code",
   "execution_count": null,
   "metadata": {},
   "outputs": [],
   "source": [
    "# !pip install mediapipe opencv-python pandas scikit-learn"
   ]
  },
  {
   "cell_type": "code",
   "execution_count": 1,
   "metadata": {},
   "outputs": [],
   "source": [
    "import mediapipe as mp # Import mediapipe\n",
    "import cv2 # Import opencv"
   ]
  },
  {
   "cell_type": "code",
   "execution_count": 2,
   "metadata": {},
   "outputs": [],
   "source": [
    "mp_drawing = mp.solutions.drawing_utils # Drawing helpers\n",
    "mp_holistic = mp.solutions.holistic # Mediapipe Solutions"
   ]
  },
  {
   "cell_type": "markdown",
   "metadata": {},
   "source": [
    "# 1. Capture Landmarks & Export to CSV\n",
    "<!--<img src=\"https://i.imgur.com/8bForKY.png\">-->\n",
    "<!--<img src=\"https://i.imgur.com/AzKNp7A.png\">-->"
   ]
  },
  {
   "cell_type": "code",
   "execution_count": 3,
   "metadata": {},
   "outputs": [],
   "source": [
    "import csv\n",
    "import os\n",
    "import numpy as np"
   ]
  },
  {
   "cell_type": "code",
   "execution_count": 4,
   "metadata": {},
   "outputs": [
    {
     "data": {
      "text/plain": [
       "75"
      ]
     },
     "execution_count": 4,
     "metadata": {},
     "output_type": "execute_result"
    }
   ],
   "source": [
    "num_coords = 75\n",
    "num_coords"
   ]
  },
  {
   "cell_type": "code",
   "execution_count": 5,
   "metadata": {},
   "outputs": [],
   "source": [
    "landmarks = ['class']\n",
    "for val in range(1, num_coords + 1):\n",
    "    landmarks += ['x{}'.format(val), 'y{}'.format(val), 'z{}'.format(val), 'v{}'.format(val)]"
   ]
  },
  {
   "cell_type": "code",
   "execution_count": null,
   "metadata": {},
   "outputs": [],
   "source": [
    "with open('coords.csv', mode='w', newline='') as f:\n",
    "    csv_writer = csv.writer(f, delimiter=',', quotechar='\"', quoting=csv.QUOTE_MINIMAL)\n",
    "    csv_writer.writerow(landmarks)"
   ]
  },
  {
   "cell_type": "markdown",
   "metadata": {},
   "source": [
    "Step 1: Choose an action from the list below by rewriting class_name variable"
   ]
  },
  {
   "cell_type": "code",
   "execution_count": 6,
   "metadata": {},
   "outputs": [],
   "source": [
    "actions = np.array(['raise_hand', 'thumbs_up', 'thumbs_down', 'cheer', 'cross_arms', 'clap'])\n",
    "class_name = \"clap\" # choose from list above"
   ]
  },
  {
   "cell_type": "markdown",
   "metadata": {},
   "source": [
    "Step 2: Run the code below for any amount of time, press q to quit\n",
    "\n",
    "Step 3: Repeat Step 1 with a different action until all actions completed"
   ]
  },
  {
   "cell_type": "code",
   "execution_count": null,
   "metadata": {},
   "outputs": [],
   "source": [
    "cap = cv2.VideoCapture(0)\n",
    "# Initiate holistic model\n",
    "with mp_holistic.Holistic(min_detection_confidence=0.5, min_tracking_confidence=0.5) as holistic:\n",
    "    \n",
    "    while cap.isOpened():\n",
    "        ret, frame = cap.read()\n",
    "        \n",
    "        # Recolor Feed\n",
    "        image = cv2.cvtColor(frame, cv2.COLOR_BGR2RGB)\n",
    "        image.flags.writeable = False        \n",
    "        \n",
    "        # Make Detections\n",
    "        results = holistic.process(image)\n",
    "        \n",
    "        # Recolor image back to BGR for rendering\n",
    "        image.flags.writeable = True   \n",
    "        image = cv2.cvtColor(image, cv2.COLOR_RGB2BGR)\n",
    "        \n",
    "        # 1. Draw face landmarks\n",
    "        mp_drawing.draw_landmarks(image, results.face_landmarks, mp_holistic.FACEMESH_CONTOURS, \n",
    "                                 mp_drawing.DrawingSpec(color=(80, 110, 10), thickness=1, circle_radius=1),\n",
    "                                 mp_drawing.DrawingSpec(color=(80, 256, 121), thickness=1, circle_radius=1)\n",
    "                                 )\n",
    "        \n",
    "        # 2. Draw right hand landmarks\n",
    "        mp_drawing.draw_landmarks(image, results.right_hand_landmarks, mp_holistic.HAND_CONNECTIONS, \n",
    "                                 mp_drawing.DrawingSpec(color=(80, 22, 10), thickness=2, circle_radius=4),\n",
    "                                 mp_drawing.DrawingSpec(color=(80, 44, 121), thickness=2, circle_radius=2)\n",
    "                                 )\n",
    "\n",
    "        # 3. Draw left hand landmarks\n",
    "        mp_drawing.draw_landmarks(image, results.left_hand_landmarks, mp_holistic.HAND_CONNECTIONS, \n",
    "                                 mp_drawing.DrawingSpec(color=(121, 22, 76), thickness=2, circle_radius=4),\n",
    "                                 mp_drawing.DrawingSpec(color=(121, 44, 250), thickness=2, circle_radius=2)\n",
    "                                 )\n",
    "\n",
    "        # 4. Draw pose detection landmarks\n",
    "        mp_drawing.draw_landmarks(image, results.pose_landmarks, mp_holistic.POSE_CONNECTIONS, \n",
    "                                 mp_drawing.DrawingSpec(color=(245, 117, 66), thickness=2, circle_radius=4),\n",
    "                                 mp_drawing.DrawingSpec(color=(245, 66, 230), thickness=2, circle_radius=2)\n",
    "                                 )\n",
    "        # Export coordinates\n",
    "        try:\n",
    "            # Extract Pose landmarks\n",
    "            pose = results.pose_landmarks.landmark\n",
    "            pose_row = list(np.array([[landmark.x, landmark.y, landmark.z, landmark.visibility] for landmark in pose]).flatten())\n",
    "            \n",
    "            # Extract Left Hand landmarks\n",
    "            lhand = results.left_hand_landmarks.landmark\n",
    "            lhand_row = list(np.array([[landmark.x, landmark.y, landmark.z, landmark.visibility] for landmark in lhand]).flatten())\n",
    "            \n",
    "            # Extract Right Hand landmarks\n",
    "            rhand = results.right_hand_landmarks.landmark\n",
    "            rhand_row = list(np.array([[landmark.x, landmark.y, landmark.z, landmark.visibility] for landmark in rhand]).flatten())\n",
    "            \n",
    "            # Concate rows\n",
    "            row = pose_row + lhand_row + rhand_row\n",
    "            \n",
    "            # Append class name \n",
    "            row.insert(0, class_name)\n",
    "            \n",
    "            # Export to CSV\n",
    "            with open('coords.csv', mode='a', newline='') as f:\n",
    "                csv_writer = csv.writer(f, delimiter=',', quotechar='\"', quoting=csv.QUOTE_MINIMAL)\n",
    "                csv_writer.writerow(row) \n",
    "            \n",
    "        except:\n",
    "            pass\n",
    "                        \n",
    "        cv2.imshow('Raw Webcam Feed', image)\n",
    "        if cv2.waitKey(10) & 0xFF == ord('q'):\n",
    "            break\n",
    "\n",
    "cap.release()\n",
    "cv2.destroyAllWindows()"
   ]
  },
  {
   "cell_type": "markdown",
   "metadata": {},
   "source": [
    "# 3. Train Custom Model Using Scikit Learn"
   ]
  },
  {
   "cell_type": "markdown",
   "metadata": {},
   "source": [
    "## 3.1 Read in Collected Data and Process"
   ]
  },
  {
   "cell_type": "code",
   "execution_count": 11,
   "metadata": {},
   "outputs": [],
   "source": [
    "import pandas as pd\n",
    "from sklearn.model_selection import train_test_split"
   ]
  },
  {
   "cell_type": "code",
   "execution_count": 12,
   "metadata": {},
   "outputs": [],
   "source": [
    "df = pd.read_csv('coords.csv')"
   ]
  },
  {
   "cell_type": "code",
   "execution_count": 13,
   "metadata": {},
   "outputs": [
    {
     "data": {
      "text/html": [
       "<div>\n",
       "<style scoped>\n",
       "    .dataframe tbody tr th:only-of-type {\n",
       "        vertical-align: middle;\n",
       "    }\n",
       "\n",
       "    .dataframe tbody tr th {\n",
       "        vertical-align: top;\n",
       "    }\n",
       "\n",
       "    .dataframe thead th {\n",
       "        text-align: right;\n",
       "    }\n",
       "</style>\n",
       "<table border=\"1\" class=\"dataframe\">\n",
       "  <thead>\n",
       "    <tr style=\"text-align: right;\">\n",
       "      <th></th>\n",
       "      <th>raise_hand</th>\n",
       "      <th>0.544867217540741</th>\n",
       "      <th>0.536960303783417</th>\n",
       "      <th>-0.707772016525269</th>\n",
       "      <th>0.999994218349457</th>\n",
       "      <th>0.566478848457336</th>\n",
       "      <th>0.480075299739838</th>\n",
       "      <th>-0.646440982818604</th>\n",
       "      <th>0.999987244606018</th>\n",
       "      <th>0.580689787864685</th>\n",
       "      <th>...</th>\n",
       "      <th>-0.140474811196327</th>\n",
       "      <th>0.507</th>\n",
       "      <th>0.220968365669251</th>\n",
       "      <th>0.989262938499451</th>\n",
       "      <th>-0.141931176185608</th>\n",
       "      <th>0.508</th>\n",
       "      <th>0.230266228318214</th>\n",
       "      <th>1.00255727767944</th>\n",
       "      <th>-0.141073063015938</th>\n",
       "      <th>0.509</th>\n",
       "    </tr>\n",
       "  </thead>\n",
       "  <tbody>\n",
       "    <tr>\n",
       "      <th>0</th>\n",
       "      <td>raise_hand</td>\n",
       "      <td>0.546196</td>\n",
       "      <td>0.540488</td>\n",
       "      <td>-0.685029</td>\n",
       "      <td>0.999994</td>\n",
       "      <td>0.567369</td>\n",
       "      <td>0.483232</td>\n",
       "      <td>-0.617822</td>\n",
       "      <td>0.999988</td>\n",
       "      <td>0.581430</td>\n",
       "      <td>...</td>\n",
       "      <td>-0.120326</td>\n",
       "      <td>0</td>\n",
       "      <td>0.205334</td>\n",
       "      <td>0.967968</td>\n",
       "      <td>-0.125019</td>\n",
       "      <td>0</td>\n",
       "      <td>0.218042</td>\n",
       "      <td>0.992212</td>\n",
       "      <td>-0.125968</td>\n",
       "      <td>0</td>\n",
       "    </tr>\n",
       "    <tr>\n",
       "      <th>1</th>\n",
       "      <td>raise_hand</td>\n",
       "      <td>0.546502</td>\n",
       "      <td>0.540943</td>\n",
       "      <td>-0.696263</td>\n",
       "      <td>0.999994</td>\n",
       "      <td>0.567782</td>\n",
       "      <td>0.483546</td>\n",
       "      <td>-0.632721</td>\n",
       "      <td>0.999988</td>\n",
       "      <td>0.581814</td>\n",
       "      <td>...</td>\n",
       "      <td>-0.119759</td>\n",
       "      <td>0</td>\n",
       "      <td>0.195935</td>\n",
       "      <td>0.969464</td>\n",
       "      <td>-0.122299</td>\n",
       "      <td>0</td>\n",
       "      <td>0.202761</td>\n",
       "      <td>0.996033</td>\n",
       "      <td>-0.121930</td>\n",
       "      <td>0</td>\n",
       "    </tr>\n",
       "    <tr>\n",
       "      <th>2</th>\n",
       "      <td>raise_hand</td>\n",
       "      <td>0.547892</td>\n",
       "      <td>0.541529</td>\n",
       "      <td>-0.633767</td>\n",
       "      <td>0.999995</td>\n",
       "      <td>0.568902</td>\n",
       "      <td>0.484224</td>\n",
       "      <td>-0.571370</td>\n",
       "      <td>0.999989</td>\n",
       "      <td>0.582736</td>\n",
       "      <td>...</td>\n",
       "      <td>-0.108710</td>\n",
       "      <td>0</td>\n",
       "      <td>0.199505</td>\n",
       "      <td>0.968332</td>\n",
       "      <td>-0.109723</td>\n",
       "      <td>0</td>\n",
       "      <td>0.206250</td>\n",
       "      <td>0.993365</td>\n",
       "      <td>-0.108446</td>\n",
       "      <td>0</td>\n",
       "    </tr>\n",
       "    <tr>\n",
       "      <th>3</th>\n",
       "      <td>raise_hand</td>\n",
       "      <td>0.547707</td>\n",
       "      <td>0.541499</td>\n",
       "      <td>-0.781555</td>\n",
       "      <td>0.999994</td>\n",
       "      <td>0.568979</td>\n",
       "      <td>0.484196</td>\n",
       "      <td>-0.719829</td>\n",
       "      <td>0.999989</td>\n",
       "      <td>0.582876</td>\n",
       "      <td>...</td>\n",
       "      <td>-0.105489</td>\n",
       "      <td>0</td>\n",
       "      <td>0.210618</td>\n",
       "      <td>0.977223</td>\n",
       "      <td>-0.104734</td>\n",
       "      <td>0</td>\n",
       "      <td>0.217494</td>\n",
       "      <td>0.995953</td>\n",
       "      <td>-0.103394</td>\n",
       "      <td>0</td>\n",
       "    </tr>\n",
       "    <tr>\n",
       "      <th>4</th>\n",
       "      <td>raise_hand</td>\n",
       "      <td>0.549083</td>\n",
       "      <td>0.542887</td>\n",
       "      <td>-0.730640</td>\n",
       "      <td>0.999994</td>\n",
       "      <td>0.569918</td>\n",
       "      <td>0.485704</td>\n",
       "      <td>-0.669111</td>\n",
       "      <td>0.999990</td>\n",
       "      <td>0.583576</td>\n",
       "      <td>...</td>\n",
       "      <td>-0.121371</td>\n",
       "      <td>0</td>\n",
       "      <td>0.213883</td>\n",
       "      <td>0.975762</td>\n",
       "      <td>-0.124379</td>\n",
       "      <td>0</td>\n",
       "      <td>0.222438</td>\n",
       "      <td>0.992003</td>\n",
       "      <td>-0.125610</td>\n",
       "      <td>0</td>\n",
       "    </tr>\n",
       "  </tbody>\n",
       "</table>\n",
       "<p>5 rows × 2173 columns</p>\n",
       "</div>"
      ],
      "text/plain": [
       "   raise_hand  0.544867217540741  0.536960303783417  -0.707772016525269  \\\n",
       "0  raise_hand           0.546196           0.540488           -0.685029   \n",
       "1  raise_hand           0.546502           0.540943           -0.696263   \n",
       "2  raise_hand           0.547892           0.541529           -0.633767   \n",
       "3  raise_hand           0.547707           0.541499           -0.781555   \n",
       "4  raise_hand           0.549083           0.542887           -0.730640   \n",
       "\n",
       "   0.999994218349457  0.566478848457336  0.480075299739838  \\\n",
       "0           0.999994           0.567369           0.483232   \n",
       "1           0.999994           0.567782           0.483546   \n",
       "2           0.999995           0.568902           0.484224   \n",
       "3           0.999994           0.568979           0.484196   \n",
       "4           0.999994           0.569918           0.485704   \n",
       "\n",
       "   -0.646440982818604  0.999987244606018  0.580689787864685  ...  \\\n",
       "0           -0.617822           0.999988           0.581430  ...   \n",
       "1           -0.632721           0.999988           0.581814  ...   \n",
       "2           -0.571370           0.999989           0.582736  ...   \n",
       "3           -0.719829           0.999989           0.582876  ...   \n",
       "4           -0.669111           0.999990           0.583576  ...   \n",
       "\n",
       "   -0.140474811196327  0.507  0.220968365669251  0.989262938499451  \\\n",
       "0           -0.120326      0           0.205334           0.967968   \n",
       "1           -0.119759      0           0.195935           0.969464   \n",
       "2           -0.108710      0           0.199505           0.968332   \n",
       "3           -0.105489      0           0.210618           0.977223   \n",
       "4           -0.121371      0           0.213883           0.975762   \n",
       "\n",
       "   -0.141931176185608  0.508  0.230266228318214  1.00255727767944  \\\n",
       "0           -0.125019      0           0.218042          0.992212   \n",
       "1           -0.122299      0           0.202761          0.996033   \n",
       "2           -0.109723      0           0.206250          0.993365   \n",
       "3           -0.104734      0           0.217494          0.995953   \n",
       "4           -0.124379      0           0.222438          0.992003   \n",
       "\n",
       "   -0.141073063015938  0.509  \n",
       "0           -0.125968      0  \n",
       "1           -0.121930      0  \n",
       "2           -0.108446      0  \n",
       "3           -0.103394      0  \n",
       "4           -0.125610      0  \n",
       "\n",
       "[5 rows x 2173 columns]"
      ]
     },
     "execution_count": 13,
     "metadata": {},
     "output_type": "execute_result"
    }
   ],
   "source": [
    "df.head()"
   ]
  },
  {
   "cell_type": "code",
   "execution_count": 14,
   "metadata": {},
   "outputs": [
    {
     "data": {
      "text/html": [
       "<div>\n",
       "<style scoped>\n",
       "    .dataframe tbody tr th:only-of-type {\n",
       "        vertical-align: middle;\n",
       "    }\n",
       "\n",
       "    .dataframe tbody tr th {\n",
       "        vertical-align: top;\n",
       "    }\n",
       "\n",
       "    .dataframe thead th {\n",
       "        text-align: right;\n",
       "    }\n",
       "</style>\n",
       "<table border=\"1\" class=\"dataframe\">\n",
       "  <thead>\n",
       "    <tr style=\"text-align: right;\">\n",
       "      <th></th>\n",
       "      <th>raise_hand</th>\n",
       "      <th>0.544867217540741</th>\n",
       "      <th>0.536960303783417</th>\n",
       "      <th>-0.707772016525269</th>\n",
       "      <th>0.999994218349457</th>\n",
       "      <th>0.566478848457336</th>\n",
       "      <th>0.480075299739838</th>\n",
       "      <th>-0.646440982818604</th>\n",
       "      <th>0.999987244606018</th>\n",
       "      <th>0.580689787864685</th>\n",
       "      <th>...</th>\n",
       "      <th>-0.140474811196327</th>\n",
       "      <th>0.507</th>\n",
       "      <th>0.220968365669251</th>\n",
       "      <th>0.989262938499451</th>\n",
       "      <th>-0.141931176185608</th>\n",
       "      <th>0.508</th>\n",
       "      <th>0.230266228318214</th>\n",
       "      <th>1.00255727767944</th>\n",
       "      <th>-0.141073063015938</th>\n",
       "      <th>0.509</th>\n",
       "    </tr>\n",
       "  </thead>\n",
       "  <tbody>\n",
       "    <tr>\n",
       "      <th>710</th>\n",
       "      <td>cheer</td>\n",
       "      <td>0.542578</td>\n",
       "      <td>0.530349</td>\n",
       "      <td>-0.678520</td>\n",
       "      <td>0.999992</td>\n",
       "      <td>0.570667</td>\n",
       "      <td>0.479476</td>\n",
       "      <td>-0.587828</td>\n",
       "      <td>0.999985</td>\n",
       "      <td>0.586940</td>\n",
       "      <td>...</td>\n",
       "      <td>0.006168</td>\n",
       "      <td>0</td>\n",
       "      <td>0.246501</td>\n",
       "      <td>0.036008</td>\n",
       "      <td>0.002295</td>\n",
       "      <td>0</td>\n",
       "      <td>0.255794</td>\n",
       "      <td>0.008575</td>\n",
       "      <td>-0.000151</td>\n",
       "      <td>0</td>\n",
       "    </tr>\n",
       "    <tr>\n",
       "      <th>711</th>\n",
       "      <td>cheer</td>\n",
       "      <td>0.543096</td>\n",
       "      <td>0.530347</td>\n",
       "      <td>-0.679038</td>\n",
       "      <td>0.999992</td>\n",
       "      <td>0.571286</td>\n",
       "      <td>0.479248</td>\n",
       "      <td>-0.590333</td>\n",
       "      <td>0.999985</td>\n",
       "      <td>0.587669</td>\n",
       "      <td>...</td>\n",
       "      <td>0.010461</td>\n",
       "      <td>0</td>\n",
       "      <td>0.244034</td>\n",
       "      <td>0.034173</td>\n",
       "      <td>0.007217</td>\n",
       "      <td>0</td>\n",
       "      <td>0.252861</td>\n",
       "      <td>0.007693</td>\n",
       "      <td>0.005331</td>\n",
       "      <td>0</td>\n",
       "    </tr>\n",
       "    <tr>\n",
       "      <th>712</th>\n",
       "      <td>cheer</td>\n",
       "      <td>0.543103</td>\n",
       "      <td>0.530316</td>\n",
       "      <td>-0.675361</td>\n",
       "      <td>0.999992</td>\n",
       "      <td>0.571450</td>\n",
       "      <td>0.479165</td>\n",
       "      <td>-0.589569</td>\n",
       "      <td>0.999985</td>\n",
       "      <td>0.587907</td>\n",
       "      <td>...</td>\n",
       "      <td>0.003937</td>\n",
       "      <td>0</td>\n",
       "      <td>0.242888</td>\n",
       "      <td>0.023611</td>\n",
       "      <td>0.000258</td>\n",
       "      <td>0</td>\n",
       "      <td>0.252928</td>\n",
       "      <td>-0.004916</td>\n",
       "      <td>-0.001621</td>\n",
       "      <td>0</td>\n",
       "    </tr>\n",
       "    <tr>\n",
       "      <th>713</th>\n",
       "      <td>cheer</td>\n",
       "      <td>0.543500</td>\n",
       "      <td>0.531399</td>\n",
       "      <td>-0.651740</td>\n",
       "      <td>0.999992</td>\n",
       "      <td>0.571887</td>\n",
       "      <td>0.480035</td>\n",
       "      <td>-0.570431</td>\n",
       "      <td>0.999986</td>\n",
       "      <td>0.588159</td>\n",
       "      <td>...</td>\n",
       "      <td>-0.028212</td>\n",
       "      <td>0</td>\n",
       "      <td>0.225817</td>\n",
       "      <td>0.046541</td>\n",
       "      <td>-0.035188</td>\n",
       "      <td>0</td>\n",
       "      <td>0.235268</td>\n",
       "      <td>0.014611</td>\n",
       "      <td>-0.039284</td>\n",
       "      <td>0</td>\n",
       "    </tr>\n",
       "    <tr>\n",
       "      <th>714</th>\n",
       "      <td>cheer</td>\n",
       "      <td>0.544668</td>\n",
       "      <td>0.531991</td>\n",
       "      <td>-0.632472</td>\n",
       "      <td>0.999992</td>\n",
       "      <td>0.572765</td>\n",
       "      <td>0.480487</td>\n",
       "      <td>-0.552969</td>\n",
       "      <td>0.999986</td>\n",
       "      <td>0.588720</td>\n",
       "      <td>...</td>\n",
       "      <td>-0.023013</td>\n",
       "      <td>0</td>\n",
       "      <td>0.224404</td>\n",
       "      <td>0.047853</td>\n",
       "      <td>-0.029372</td>\n",
       "      <td>0</td>\n",
       "      <td>0.233167</td>\n",
       "      <td>0.016232</td>\n",
       "      <td>-0.032931</td>\n",
       "      <td>0</td>\n",
       "    </tr>\n",
       "  </tbody>\n",
       "</table>\n",
       "<p>5 rows × 2173 columns</p>\n",
       "</div>"
      ],
      "text/plain": [
       "    raise_hand  0.544867217540741  0.536960303783417  -0.707772016525269  \\\n",
       "710      cheer           0.542578           0.530349           -0.678520   \n",
       "711      cheer           0.543096           0.530347           -0.679038   \n",
       "712      cheer           0.543103           0.530316           -0.675361   \n",
       "713      cheer           0.543500           0.531399           -0.651740   \n",
       "714      cheer           0.544668           0.531991           -0.632472   \n",
       "\n",
       "     0.999994218349457  0.566478848457336  0.480075299739838  \\\n",
       "710           0.999992           0.570667           0.479476   \n",
       "711           0.999992           0.571286           0.479248   \n",
       "712           0.999992           0.571450           0.479165   \n",
       "713           0.999992           0.571887           0.480035   \n",
       "714           0.999992           0.572765           0.480487   \n",
       "\n",
       "     -0.646440982818604  0.999987244606018  0.580689787864685  ...  \\\n",
       "710           -0.587828           0.999985           0.586940  ...   \n",
       "711           -0.590333           0.999985           0.587669  ...   \n",
       "712           -0.589569           0.999985           0.587907  ...   \n",
       "713           -0.570431           0.999986           0.588159  ...   \n",
       "714           -0.552969           0.999986           0.588720  ...   \n",
       "\n",
       "     -0.140474811196327  0.507  0.220968365669251  0.989262938499451  \\\n",
       "710            0.006168      0           0.246501           0.036008   \n",
       "711            0.010461      0           0.244034           0.034173   \n",
       "712            0.003937      0           0.242888           0.023611   \n",
       "713           -0.028212      0           0.225817           0.046541   \n",
       "714           -0.023013      0           0.224404           0.047853   \n",
       "\n",
       "     -0.141931176185608  0.508  0.230266228318214  1.00255727767944  \\\n",
       "710            0.002295      0           0.255794          0.008575   \n",
       "711            0.007217      0           0.252861          0.007693   \n",
       "712            0.000258      0           0.252928         -0.004916   \n",
       "713           -0.035188      0           0.235268          0.014611   \n",
       "714           -0.029372      0           0.233167          0.016232   \n",
       "\n",
       "     -0.141073063015938  0.509  \n",
       "710           -0.000151      0  \n",
       "711            0.005331      0  \n",
       "712           -0.001621      0  \n",
       "713           -0.039284      0  \n",
       "714           -0.032931      0  \n",
       "\n",
       "[5 rows x 2173 columns]"
      ]
     },
     "execution_count": 14,
     "metadata": {},
     "output_type": "execute_result"
    }
   ],
   "source": [
    "df.tail()"
   ]
  },
  {
   "cell_type": "code",
   "execution_count": 15,
   "metadata": {},
   "outputs": [
    {
     "data": {
      "text/plain": [
       "(715, 2173)"
      ]
     },
     "execution_count": 15,
     "metadata": {},
     "output_type": "execute_result"
    }
   ],
   "source": [
    "df.shape"
   ]
  },
  {
   "cell_type": "code",
   "execution_count": 17,
   "metadata": {},
   "outputs": [],
   "source": [
    "X = df.drop('class', axis=1) # features\n",
    "y = df['class'] # target value"
   ]
  },
  {
   "cell_type": "code",
   "execution_count": 18,
   "metadata": {},
   "outputs": [],
   "source": [
    "# Split data into train and test sets\n",
    "X_train, X_test, y_train, y_test = train_test_split(X, y, test_size=0.3, random_state=1234)"
   ]
  },
  {
   "cell_type": "markdown",
   "metadata": {},
   "source": [
    "## 3.2 Train Machine Learning Classification Model"
   ]
  },
  {
   "cell_type": "code",
   "execution_count": 19,
   "metadata": {},
   "outputs": [],
   "source": [
    "from sklearn.pipeline import make_pipeline \n",
    "from sklearn.preprocessing import StandardScaler \n",
    "from sklearn.linear_model import LogisticRegression, RidgeClassifier\n",
    "from sklearn.ensemble import RandomForestClassifier, GradientBoostingClassifier"
   ]
  },
  {
   "cell_type": "code",
   "execution_count": 20,
   "metadata": {},
   "outputs": [],
   "source": [
    "pipelines = {\n",
    "    'lr':make_pipeline(StandardScaler(), LogisticRegression()),\n",
    "    'rc':make_pipeline(StandardScaler(), RidgeClassifier()),\n",
    "    'rf':make_pipeline(StandardScaler(), RandomForestClassifier()),\n",
    "    'gb':make_pipeline(StandardScaler(), GradientBoostingClassifier()),\n",
    "}"
   ]
  },
  {
   "cell_type": "code",
   "execution_count": 21,
   "metadata": {},
   "outputs": [
    {
     "name": "stderr",
     "output_type": "stream",
     "text": [
      "C:\\Users\\Chanson\\anaconda3\\lib\\site-packages\\sklearn\\linear_model\\_logistic.py:458: ConvergenceWarning: lbfgs failed to converge (status=1):\n",
      "STOP: TOTAL NO. of ITERATIONS REACHED LIMIT.\n",
      "\n",
      "Increase the number of iterations (max_iter) or scale the data as shown in:\n",
      "    https://scikit-learn.org/stable/modules/preprocessing.html\n",
      "Please also refer to the documentation for alternative solver options:\n",
      "    https://scikit-learn.org/stable/modules/linear_model.html#logistic-regression\n",
      "  n_iter_i = _check_optimize_result(\n"
     ]
    }
   ],
   "source": [
    "fit_models = {}\n",
    "for algo, pipeline in pipelines.items():\n",
    "    model = pipeline.fit(X_train, y_train)\n",
    "    fit_models[algo] = model"
   ]
  },
  {
   "cell_type": "code",
   "execution_count": 22,
   "metadata": {},
   "outputs": [
    {
     "data": {
      "text/plain": [
       "{'lr': Pipeline(steps=[('standardscaler', StandardScaler()),\n",
       "                 ('logisticregression', LogisticRegression())]),\n",
       " 'rc': Pipeline(steps=[('standardscaler', StandardScaler()),\n",
       "                 ('ridgeclassifier', RidgeClassifier())]),\n",
       " 'rf': Pipeline(steps=[('standardscaler', StandardScaler()),\n",
       "                 ('randomforestclassifier', RandomForestClassifier())]),\n",
       " 'gb': Pipeline(steps=[('standardscaler', StandardScaler()),\n",
       "                 ('gradientboostingclassifier', GradientBoostingClassifier())])}"
      ]
     },
     "execution_count": 22,
     "metadata": {},
     "output_type": "execute_result"
    }
   ],
   "source": [
    "fit_models"
   ]
  },
  {
   "cell_type": "code",
   "execution_count": null,
   "metadata": {},
   "outputs": [],
   "source": [
    "fit_models['rc'].predict(X_test)"
   ]
  },
  {
   "cell_type": "markdown",
   "metadata": {},
   "source": [
    "## 3.3 Evaluate and Serialize Model "
   ]
  },
  {
   "cell_type": "code",
   "execution_count": 23,
   "metadata": {},
   "outputs": [],
   "source": [
    "from sklearn.metrics import accuracy_score # Accuracy metrics \n",
    "import pickle "
   ]
  },
  {
   "cell_type": "code",
   "execution_count": 24,
   "metadata": {},
   "outputs": [
    {
     "name": "stdout",
     "output_type": "stream",
     "text": [
      "lr 1.0\n",
      "rc 1.0\n",
      "rf 1.0\n",
      "gb 0.9953488372093023\n"
     ]
    }
   ],
   "source": [
    "for algo, model in fit_models.items():\n",
    "    yhat = model.predict(X_test)\n",
    "    print(algo, accuracy_score(y_test, yhat))"
   ]
  },
  {
   "cell_type": "code",
   "execution_count": 25,
   "metadata": {},
   "outputs": [
    {
     "data": {
      "text/plain": [
       "array(['clap', 'clap', 'cheer', 'thumbs_down', 'clap', 'cross_arms',\n",
       "       'thumbs_up', 'thumbs_down', 'thumbs_down', 'clap', 'clap',\n",
       "       'thumbs_down', 'clap', 'thumbs_up', 'thumbs_down', 'cheer',\n",
       "       'thumbs_down', 'clap', 'thumbs_up', 'thumbs_down', 'thumbs_down',\n",
       "       'raise_hand', 'clap', 'clap', 'clap', 'thumbs_down', 'clap',\n",
       "       'thumbs_up', 'clap', 'clap', 'thumbs_down', 'thumbs_up',\n",
       "       'thumbs_down', 'thumbs_up', 'thumbs_up', 'thumbs_down',\n",
       "       'raise_hand', 'thumbs_up', 'thumbs_down', 'thumbs_up', 'thumbs_up',\n",
       "       'thumbs_down', 'cross_arms', 'clap', 'thumbs_down', 'thumbs_up',\n",
       "       'thumbs_up', 'thumbs_down', 'cheer', 'thumbs_up', 'cheer', 'cheer',\n",
       "       'clap', 'thumbs_down', 'raise_hand', 'raise_hand', 'raise_hand',\n",
       "       'thumbs_down', 'cheer', 'clap', 'raise_hand', 'thumbs_up',\n",
       "       'thumbs_up', 'thumbs_up', 'raise_hand', 'thumbs_down',\n",
       "       'thumbs_down', 'cheer', 'thumbs_down', 'raise_hand', 'clap',\n",
       "       'thumbs_down', 'thumbs_up', 'thumbs_up', 'clap', 'clap',\n",
       "       'thumbs_down', 'thumbs_down', 'cross_arms', 'cheer', 'clap',\n",
       "       'thumbs_up', 'thumbs_down', 'thumbs_down', 'thumbs_down',\n",
       "       'thumbs_down', 'thumbs_up', 'thumbs_down', 'cross_arms',\n",
       "       'raise_hand', 'raise_hand', 'cross_arms', 'thumbs_up', 'clap',\n",
       "       'raise_hand', 'cheer', 'thumbs_up', 'thumbs_up', 'cheer',\n",
       "       'raise_hand', 'thumbs_up', 'clap', 'raise_hand', 'thumbs_down',\n",
       "       'clap', 'clap', 'thumbs_up', 'clap', 'raise_hand', 'thumbs_up',\n",
       "       'thumbs_up', 'thumbs_up', 'cheer', 'clap', 'thumbs_up', 'cheer',\n",
       "       'thumbs_down', 'clap', 'cheer', 'clap', 'thumbs_up', 'raise_hand',\n",
       "       'thumbs_up', 'clap', 'thumbs_down', 'thumbs_up', 'thumbs_down',\n",
       "       'clap', 'thumbs_up', 'thumbs_down', 'thumbs_down', 'thumbs_down',\n",
       "       'cheer', 'clap', 'cheer', 'cheer', 'thumbs_up', 'clap',\n",
       "       'thumbs_up', 'thumbs_down', 'thumbs_up', 'cheer', 'thumbs_up',\n",
       "       'clap', 'clap', 'cheer', 'thumbs_down', 'thumbs_up', 'thumbs_down',\n",
       "       'raise_hand', 'thumbs_up', 'thumbs_down', 'thumbs_down',\n",
       "       'raise_hand', 'thumbs_down', 'cross_arms', 'thumbs_down', 'cheer',\n",
       "       'cheer', 'thumbs_up', 'thumbs_down', 'thumbs_up', 'raise_hand',\n",
       "       'thumbs_down', 'cross_arms', 'raise_hand', 'clap', 'clap', 'clap',\n",
       "       'raise_hand', 'clap', 'clap', 'cheer', 'cross_arms', 'clap',\n",
       "       'clap', 'raise_hand', 'thumbs_up', 'thumbs_up', 'clap',\n",
       "       'thumbs_up', 'cheer', 'cross_arms', 'thumbs_up', 'thumbs_down',\n",
       "       'thumbs_down', 'thumbs_down', 'raise_hand', 'clap', 'cheer',\n",
       "       'thumbs_up', 'cheer', 'cross_arms', 'cheer', 'cheer', 'thumbs_up',\n",
       "       'cheer', 'cheer', 'raise_hand', 'clap', 'raise_hand', 'cheer',\n",
       "       'raise_hand', 'clap', 'raise_hand', 'cheer', 'clap', 'raise_hand',\n",
       "       'cheer', 'cheer', 'clap', 'raise_hand', 'thumbs_up', 'raise_hand',\n",
       "       'clap'], dtype=object)"
      ]
     },
     "execution_count": 25,
     "metadata": {},
     "output_type": "execute_result"
    }
   ],
   "source": [
    "fit_models['rf'].predict(X_test)"
   ]
  },
  {
   "cell_type": "code",
   "execution_count": 26,
   "metadata": {},
   "outputs": [
    {
     "data": {
      "text/plain": [
       "522           clap\n",
       "473           clap\n",
       "646          cheer\n",
       "267    thumbs_down\n",
       "444           clap\n",
       "          ...     \n",
       "587           clap\n",
       "40      raise_hand\n",
       "149      thumbs_up\n",
       "95      raise_hand\n",
       "466           clap\n",
       "Name: raise_hand, Length: 215, dtype: object"
      ]
     },
     "execution_count": 26,
     "metadata": {},
     "output_type": "execute_result"
    }
   ],
   "source": [
    "y_test"
   ]
  },
  {
   "cell_type": "code",
   "execution_count": 27,
   "metadata": {},
   "outputs": [],
   "source": [
    "with open('body_language.pkl', 'wb') as f:\n",
    "    pickle.dump(fit_models, f)"
   ]
  },
  {
   "cell_type": "markdown",
   "metadata": {},
   "source": [
    "# 4. Make Detections with Model"
   ]
  },
  {
   "cell_type": "code",
   "execution_count": 10,
   "metadata": {},
   "outputs": [
    {
     "ename": "EOFError",
     "evalue": "Ran out of input",
     "output_type": "error",
     "traceback": [
      "\u001b[1;31m---------------------------------------------------------------------------\u001b[0m",
      "\u001b[1;31mEOFError\u001b[0m                                  Traceback (most recent call last)",
      "Cell \u001b[1;32mIn[10], line 2\u001b[0m\n\u001b[0;32m      1\u001b[0m \u001b[38;5;28;01mwith\u001b[39;00m \u001b[38;5;28mopen\u001b[39m(\u001b[38;5;124m'\u001b[39m\u001b[38;5;124mbody_language.pkl\u001b[39m\u001b[38;5;124m'\u001b[39m, \u001b[38;5;124m'\u001b[39m\u001b[38;5;124mrb\u001b[39m\u001b[38;5;124m'\u001b[39m) \u001b[38;5;28;01mas\u001b[39;00m f:\n\u001b[1;32m----> 2\u001b[0m     model \u001b[38;5;241m=\u001b[39m \u001b[43mpickle\u001b[49m\u001b[38;5;241;43m.\u001b[39;49m\u001b[43mload\u001b[49m\u001b[43m(\u001b[49m\u001b[43mf\u001b[49m\u001b[43m)\u001b[49m\n",
      "\u001b[1;31mEOFError\u001b[0m: Ran out of input"
     ]
    }
   ],
   "source": [
    "with open('body_language.pkl', 'rb') as f:\n",
    "    model = pickle.load(f)"
   ]
  },
  {
   "cell_type": "code",
   "execution_count": 28,
   "metadata": {},
   "outputs": [
    {
     "data": {
      "text/html": [
       "<style>#sk-container-id-1 {color: black;background-color: white;}#sk-container-id-1 pre{padding: 0;}#sk-container-id-1 div.sk-toggleable {background-color: white;}#sk-container-id-1 label.sk-toggleable__label {cursor: pointer;display: block;width: 100%;margin-bottom: 0;padding: 0.3em;box-sizing: border-box;text-align: center;}#sk-container-id-1 label.sk-toggleable__label-arrow:before {content: \"▸\";float: left;margin-right: 0.25em;color: #696969;}#sk-container-id-1 label.sk-toggleable__label-arrow:hover:before {color: black;}#sk-container-id-1 div.sk-estimator:hover label.sk-toggleable__label-arrow:before {color: black;}#sk-container-id-1 div.sk-toggleable__content {max-height: 0;max-width: 0;overflow: hidden;text-align: left;background-color: #f0f8ff;}#sk-container-id-1 div.sk-toggleable__content pre {margin: 0.2em;color: black;border-radius: 0.25em;background-color: #f0f8ff;}#sk-container-id-1 input.sk-toggleable__control:checked~div.sk-toggleable__content {max-height: 200px;max-width: 100%;overflow: auto;}#sk-container-id-1 input.sk-toggleable__control:checked~label.sk-toggleable__label-arrow:before {content: \"▾\";}#sk-container-id-1 div.sk-estimator input.sk-toggleable__control:checked~label.sk-toggleable__label {background-color: #d4ebff;}#sk-container-id-1 div.sk-label input.sk-toggleable__control:checked~label.sk-toggleable__label {background-color: #d4ebff;}#sk-container-id-1 input.sk-hidden--visually {border: 0;clip: rect(1px 1px 1px 1px);clip: rect(1px, 1px, 1px, 1px);height: 1px;margin: -1px;overflow: hidden;padding: 0;position: absolute;width: 1px;}#sk-container-id-1 div.sk-estimator {font-family: monospace;background-color: #f0f8ff;border: 1px dotted black;border-radius: 0.25em;box-sizing: border-box;margin-bottom: 0.5em;}#sk-container-id-1 div.sk-estimator:hover {background-color: #d4ebff;}#sk-container-id-1 div.sk-parallel-item::after {content: \"\";width: 100%;border-bottom: 1px solid gray;flex-grow: 1;}#sk-container-id-1 div.sk-label:hover label.sk-toggleable__label {background-color: #d4ebff;}#sk-container-id-1 div.sk-serial::before {content: \"\";position: absolute;border-left: 1px solid gray;box-sizing: border-box;top: 0;bottom: 0;left: 50%;z-index: 0;}#sk-container-id-1 div.sk-serial {display: flex;flex-direction: column;align-items: center;background-color: white;padding-right: 0.2em;padding-left: 0.2em;position: relative;}#sk-container-id-1 div.sk-item {position: relative;z-index: 1;}#sk-container-id-1 div.sk-parallel {display: flex;align-items: stretch;justify-content: center;background-color: white;position: relative;}#sk-container-id-1 div.sk-item::before, #sk-container-id-1 div.sk-parallel-item::before {content: \"\";position: absolute;border-left: 1px solid gray;box-sizing: border-box;top: 0;bottom: 0;left: 50%;z-index: -1;}#sk-container-id-1 div.sk-parallel-item {display: flex;flex-direction: column;z-index: 1;position: relative;background-color: white;}#sk-container-id-1 div.sk-parallel-item:first-child::after {align-self: flex-end;width: 50%;}#sk-container-id-1 div.sk-parallel-item:last-child::after {align-self: flex-start;width: 50%;}#sk-container-id-1 div.sk-parallel-item:only-child::after {width: 0;}#sk-container-id-1 div.sk-dashed-wrapped {border: 1px dashed gray;margin: 0 0.4em 0.5em 0.4em;box-sizing: border-box;padding-bottom: 0.4em;background-color: white;}#sk-container-id-1 div.sk-label label {font-family: monospace;font-weight: bold;display: inline-block;line-height: 1.2em;}#sk-container-id-1 div.sk-label-container {text-align: center;}#sk-container-id-1 div.sk-container {/* jupyter's `normalize.less` sets `[hidden] { display: none; }` but bootstrap.min.css set `[hidden] { display: none !important; }` so we also need the `!important` here to be able to override the default hidden behavior on the sphinx rendered scikit-learn.org. See: https://github.com/scikit-learn/scikit-learn/issues/21755 */display: inline-block !important;position: relative;}#sk-container-id-1 div.sk-text-repr-fallback {display: none;}</style><div id=\"sk-container-id-1\" class=\"sk-top-container\"><div class=\"sk-text-repr-fallback\"><pre>Pipeline(steps=[(&#x27;standardscaler&#x27;, StandardScaler()),\n",
       "                (&#x27;gradientboostingclassifier&#x27;, GradientBoostingClassifier())])</pre><b>In a Jupyter environment, please rerun this cell to show the HTML representation or trust the notebook. <br />On GitHub, the HTML representation is unable to render, please try loading this page with nbviewer.org.</b></div><div class=\"sk-container\" hidden><div class=\"sk-item sk-dashed-wrapped\"><div class=\"sk-label-container\"><div class=\"sk-label sk-toggleable\"><input class=\"sk-toggleable__control sk-hidden--visually\" id=\"sk-estimator-id-1\" type=\"checkbox\" ><label for=\"sk-estimator-id-1\" class=\"sk-toggleable__label sk-toggleable__label-arrow\">Pipeline</label><div class=\"sk-toggleable__content\"><pre>Pipeline(steps=[(&#x27;standardscaler&#x27;, StandardScaler()),\n",
       "                (&#x27;gradientboostingclassifier&#x27;, GradientBoostingClassifier())])</pre></div></div></div><div class=\"sk-serial\"><div class=\"sk-item\"><div class=\"sk-estimator sk-toggleable\"><input class=\"sk-toggleable__control sk-hidden--visually\" id=\"sk-estimator-id-2\" type=\"checkbox\" ><label for=\"sk-estimator-id-2\" class=\"sk-toggleable__label sk-toggleable__label-arrow\">StandardScaler</label><div class=\"sk-toggleable__content\"><pre>StandardScaler()</pre></div></div></div><div class=\"sk-item\"><div class=\"sk-estimator sk-toggleable\"><input class=\"sk-toggleable__control sk-hidden--visually\" id=\"sk-estimator-id-3\" type=\"checkbox\" ><label for=\"sk-estimator-id-3\" class=\"sk-toggleable__label sk-toggleable__label-arrow\">GradientBoostingClassifier</label><div class=\"sk-toggleable__content\"><pre>GradientBoostingClassifier()</pre></div></div></div></div></div></div></div>"
      ],
      "text/plain": [
       "Pipeline(steps=[('standardscaler', StandardScaler()),\n",
       "                ('gradientboostingclassifier', GradientBoostingClassifier())])"
      ]
     },
     "execution_count": 28,
     "metadata": {},
     "output_type": "execute_result"
    }
   ],
   "source": [
    "model"
   ]
  },
  {
   "cell_type": "code",
   "execution_count": 31,
   "metadata": {},
   "outputs": [
    {
     "name": "stderr",
     "output_type": "stream",
     "text": [
      "C:\\Users\\Chanson\\anaconda3\\lib\\site-packages\\sklearn\\base.py:420: UserWarning: X does not have valid feature names, but StandardScaler was fitted with feature names\n",
      "  warnings.warn(\n",
      "C:\\Users\\Chanson\\anaconda3\\lib\\site-packages\\sklearn\\base.py:420: UserWarning: X does not have valid feature names, but StandardScaler was fitted with feature names\n",
      "  warnings.warn(\n",
      "C:\\Users\\Chanson\\anaconda3\\lib\\site-packages\\sklearn\\base.py:420: UserWarning: X does not have valid feature names, but StandardScaler was fitted with feature names\n",
      "  warnings.warn(\n",
      "C:\\Users\\Chanson\\anaconda3\\lib\\site-packages\\sklearn\\base.py:420: UserWarning: X does not have valid feature names, but StandardScaler was fitted with feature names\n",
      "  warnings.warn(\n",
      "C:\\Users\\Chanson\\anaconda3\\lib\\site-packages\\sklearn\\base.py:420: UserWarning: X does not have valid feature names, but StandardScaler was fitted with feature names\n",
      "  warnings.warn(\n",
      "C:\\Users\\Chanson\\anaconda3\\lib\\site-packages\\sklearn\\base.py:420: UserWarning: X does not have valid feature names, but StandardScaler was fitted with feature names\n",
      "  warnings.warn(\n",
      "C:\\Users\\Chanson\\anaconda3\\lib\\site-packages\\sklearn\\base.py:420: UserWarning: X does not have valid feature names, but StandardScaler was fitted with feature names\n",
      "  warnings.warn(\n",
      "C:\\Users\\Chanson\\anaconda3\\lib\\site-packages\\sklearn\\base.py:420: UserWarning: X does not have valid feature names, but StandardScaler was fitted with feature names\n",
      "  warnings.warn(\n",
      "C:\\Users\\Chanson\\anaconda3\\lib\\site-packages\\sklearn\\base.py:420: UserWarning: X does not have valid feature names, but StandardScaler was fitted with feature names\n",
      "  warnings.warn(\n",
      "C:\\Users\\Chanson\\anaconda3\\lib\\site-packages\\sklearn\\base.py:420: UserWarning: X does not have valid feature names, but StandardScaler was fitted with feature names\n",
      "  warnings.warn(\n",
      "C:\\Users\\Chanson\\anaconda3\\lib\\site-packages\\sklearn\\base.py:420: UserWarning: X does not have valid feature names, but StandardScaler was fitted with feature names\n",
      "  warnings.warn(\n",
      "C:\\Users\\Chanson\\anaconda3\\lib\\site-packages\\sklearn\\base.py:420: UserWarning: X does not have valid feature names, but StandardScaler was fitted with feature names\n",
      "  warnings.warn(\n",
      "C:\\Users\\Chanson\\anaconda3\\lib\\site-packages\\sklearn\\base.py:420: UserWarning: X does not have valid feature names, but StandardScaler was fitted with feature names\n",
      "  warnings.warn(\n",
      "C:\\Users\\Chanson\\anaconda3\\lib\\site-packages\\sklearn\\base.py:420: UserWarning: X does not have valid feature names, but StandardScaler was fitted with feature names\n",
      "  warnings.warn(\n",
      "C:\\Users\\Chanson\\anaconda3\\lib\\site-packages\\sklearn\\base.py:420: UserWarning: X does not have valid feature names, but StandardScaler was fitted with feature names\n",
      "  warnings.warn(\n",
      "C:\\Users\\Chanson\\anaconda3\\lib\\site-packages\\sklearn\\base.py:420: UserWarning: X does not have valid feature names, but StandardScaler was fitted with feature names\n",
      "  warnings.warn(\n"
     ]
    }
   ],
   "source": [
    "cap = cv2.VideoCapture(0)\n",
    "# Initiate holistic model\n",
    "with mp_holistic.Holistic(min_detection_confidence=0.5, min_tracking_confidence=0.5) as holistic:\n",
    "    \n",
    "    while cap.isOpened():\n",
    "        ret, frame = cap.read()\n",
    "        \n",
    "        # Recolor Feed\n",
    "        image = cv2.cvtColor(frame, cv2.COLOR_BGR2RGB)\n",
    "        image.flags.writeable = False        \n",
    "        \n",
    "        # Make Detections\n",
    "        results = holistic.process(image)\n",
    "        \n",
    "        # Recolor image back to BGR for rendering\n",
    "        image.flags.writeable = True   \n",
    "        image = cv2.cvtColor(image, cv2.COLOR_RGB2BGR)\n",
    "        \n",
    "        # 1. Draw face landmarks\n",
    "        mp_drawing.draw_landmarks(image, results.face_landmarks, mp_holistic.FACEMESH_CONTOURS, \n",
    "                                 mp_drawing.DrawingSpec(color=(80, 110, 10), thickness=1, circle_radius=1),\n",
    "                                 mp_drawing.DrawingSpec(color=(80, 256, 121), thickness=1, circle_radius=1)\n",
    "                                 )\n",
    "        \n",
    "        # 2. Draw right hand landmarks\n",
    "        mp_drawing.draw_landmarks(image, results.right_hand_landmarks, mp_holistic.HAND_CONNECTIONS, \n",
    "                                 mp_drawing.DrawingSpec(color=(80, 22, 10), thickness=2, circle_radius=4),\n",
    "                                 mp_drawing.DrawingSpec(color=(80, 44, 121), thickness=2, circle_radius=2)\n",
    "                                 )\n",
    "\n",
    "        # 3. Draw left hand landmarks\n",
    "        mp_drawing.draw_landmarks(image, results.left_hand_landmarks, mp_holistic.HAND_CONNECTIONS, \n",
    "                                 mp_drawing.DrawingSpec(color=(121, 22, 76), thickness=2, circle_radius=4),\n",
    "                                 mp_drawing.DrawingSpec(color=(121, 44, 250), thickness=2, circle_radius=2)\n",
    "                                 )\n",
    "\n",
    "        # 4. Draw pose detection landmarks\n",
    "        mp_drawing.draw_landmarks(image, results.pose_landmarks, mp_holistic.POSE_CONNECTIONS, \n",
    "                                 mp_drawing.DrawingSpec(color=(245, 117, 66), thickness=2, circle_radius=4),\n",
    "                                 mp_drawing.DrawingSpec(color=(245, 66, 230), thickness=2, circle_radius=2)\n",
    "                                 )\n",
    "        # Export coordinates\n",
    "        try:\n",
    "            # Extract Pose Landmarks\n",
    "            pose = results.pose_landmarks.landmark\n",
    "            pose_row = list(np.array([[landmark.x, landmark.y, landmark.z, landmark.visibility] for landmark in pose]).flatten())\n",
    "           \n",
    "            # Extract Left Hand landmarks\n",
    "            lhand = results.left_hand_landmarks.landmark\n",
    "            lhand_row = list(np.array([[landmark.x, landmark.y, landmark.z, landmark.visibility] for landmark in lhand]).flatten())\n",
    "            \n",
    "            # Extract Right Hand landmarks\n",
    "            rhand = results.right_hand_landmarks.landmark\n",
    "            rhand_row = list(np.array([[landmark.x, landmark.y, landmark.z, landmark.visibility] for landmark in rhand]).flatten())\n",
    "            \n",
    "            # Concate rows\n",
    "            row = pose_row + lhand_row + rhand_row\n",
    "\n",
    "            # Make Detections\n",
    "            X = pd.DataFrame([row])\n",
    "            body_language_class = model.predict(X)[0]\n",
    "            body_language_prob = model.predict_proba(X)[0]\n",
    "            print(body_language_class, body_language_prob)\n",
    "            \n",
    "            # Grab ear coords\n",
    "            coords = tuple(np.multiply(\n",
    "                            np.array(\n",
    "                                (results.pose_landmarks.landmark[mp_holistic.PoseLandmark.LEFT_EAR].x, \n",
    "                                 results.pose_landmarks.landmark[mp_holistic.PoseLandmark.LEFT_EAR].y))\n",
    "                        , [640, 480]).astype(int))\n",
    "            \n",
    "            cv2.rectangle(image, \n",
    "                          (coords[0], coords[1] + 5), \n",
    "                          (coords[0] + len(body_language_class) * 20, coords[1] - 30), \n",
    "                          (245, 117, 16), -1)\n",
    "            cv2.putText(image, body_language_class, coords, \n",
    "                        cv2.FONT_HERSHEY_SIMPLEX, 1, (255, 255, 255), 2, cv2.LINE_AA)\n",
    "            \n",
    "            # Get status box\n",
    "            cv2.rectangle(image, (0, 0), (250, 60), (245, 117, 16), -1)\n",
    "            \n",
    "            # Display Class\n",
    "            cv2.putText(image, 'CLASS'\n",
    "                        , (95, 12), cv2.FONT_HERSHEY_SIMPLEX, 0.5, (0, 0, 0), 1, cv2.LINE_AA)\n",
    "            cv2.putText(image, body_language_class.split(' ')[0]\n",
    "                        , (90, 40), cv2.FONT_HERSHEY_SIMPLEX, 1, (255, 255, 255), 2, cv2.LINE_AA)\n",
    "            \n",
    "            # Display Probability\n",
    "            cv2.putText(image, 'PROB'\n",
    "                        , (15, 12), cv2.FONT_HERSHEY_SIMPLEX, 0.5, (0, 0, 0), 1, cv2.LINE_AA)\n",
    "            cv2.putText(image, str(round(body_language_prob[np.argmax(body_language_prob)],2))\n",
    "                        , (10, 40), cv2.FONT_HERSHEY_SIMPLEX, 1, (255, 255, 255), 2, cv2.LINE_AA)\n",
    "            \n",
    "        except:\n",
    "            pass\n",
    "                        \n",
    "        cv2.imshow('Raw Webcam Feed', image)\n",
    "        if cv2.waitKey(10) & 0xFF == ord('q'):\n",
    "            break\n",
    "\n",
    "cap.release()\n",
    "cv2.destroyAllWindows()"
   ]
  },
  {
   "cell_type": "code",
   "execution_count": null,
   "metadata": {},
   "outputs": [],
   "source": [
    "tuple(np.multiply(np.array((results.pose_landmarks.landmark[mp_holistic.PoseLandmark.LEFT_EAR].x, \n",
    "results.pose_landmarks.landmark[mp_holistic.PoseLandmark.LEFT_EAR].y)), [640, 480]).astype(int))"
   ]
  }
 ],
 "metadata": {
  "kernelspec": {
   "display_name": "Python 3 (ipykernel)",
   "language": "python",
   "name": "python3"
  },
  "language_info": {
   "codemirror_mode": {
    "name": "ipython",
    "version": 3
   },
   "file_extension": ".py",
   "mimetype": "text/x-python",
   "name": "python",
   "nbconvert_exporter": "python",
   "pygments_lexer": "ipython3",
   "version": "3.10.9"
  }
 },
 "nbformat": 4,
 "nbformat_minor": 4
}
