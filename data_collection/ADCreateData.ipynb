{
 "cells": [
  {
   "cell_type": "code",
   "execution_count": null,
   "metadata": {},
   "outputs": [],
   "source": [
    "from ADUtils import *"
   ]
  },
  {
   "cell_type": "markdown",
   "metadata": {},
   "source": [
    "# Folder Setup"
   ]
  },
  {
   "cell_type": "code",
   "execution_count": null,
   "metadata": {},
   "outputs": [],
   "source": [
    "create_extra_sequences = True # just so you do not accidently create new folders\n",
    "\n",
    "# this block creates $no_sequences folders for each action in DATA_PATH for recording\n",
    "if not os.path.exists(DATA_PATH):\n",
    "    os.mkdir(DATA_PATH)\n",
    "if create_extra_sequences:\n",
    "    for action in actions: # if you only want to create folders for a certain action, comment this out and uncomment below\n",
    "#         action = \"test\"\n",
    "        action_path = os.path.join(DATA_PATH, action)\n",
    "        if not os.path.exists(action_path):\n",
    "            os.mkdir(action_path)\n",
    "        dir_max = 0\n",
    "        # if path is not empty find the maximum folder number and start creating from max\n",
    "        if os.listdir(action_path): \n",
    "            dir_max = np.max(np.array(os.listdir(action_path)).astype(int))+1\n",
    "        for sequence in range(0, no_sequences):\n",
    "            try:\n",
    "                os.makedirs(os.path.join(action_path, str(dir_max+sequence)))\n",
    "            except:\n",
    "                pass"
   ]
  },
  {
   "cell_type": "code",
   "execution_count": null,
   "metadata": {},
   "outputs": [],
   "source": [
    "DELETE_EMPTY_FOLDERS = False\n",
    "\n",
    "if DELETE_EMPTY_FOLDERS:\n",
    "    for action in actions:\n",
    "        action_path = os.path.join(DATA_PATH, action)\n",
    "        if not os.path.exists(action_path):\n",
    "            continue\n",
    "        \n",
    "        for folder in os.listdir(action_path):\n",
    "            if not os.listdir(os.path.join(action_path, folder)):\n",
    "                os.rmdir(os.path.join(action_path, folder))"
   ]
  },
  {
   "cell_type": "markdown",
   "metadata": {},
   "source": [
    "# Data Creation"
   ]
  },
  {
   "cell_type": "markdown",
   "metadata": {},
   "source": [
    "Run the cell below with the action you want, word for word from the list\n",
    "Then run the cell below that to save your data"
   ]
  },
  {
   "cell_type": "code",
   "execution_count": null,
   "metadata": {},
   "outputs": [],
   "source": [
    "actions"
   ]
  },
  {
   "cell_type": "code",
   "execution_count": null,
   "metadata": {},
   "outputs": [],
   "source": [
    "action = 'raise_hand' # choose which action you want data for from list above"
   ]
  },
  {
   "cell_type": "markdown",
   "metadata": {},
   "source": [
    "Step 1: Select an action from the list above by rewriting action variable\n",
    "\n",
    "Step 2: Run the cell below and record yourself performing the action\n",
    "\n",
    "Step 3: Repeat Step 1 until you completed all actions"
   ]
  },
  {
   "cell_type": "code",
   "execution_count": null,
   "metadata": {
    "scrolled": true
   },
   "outputs": [],
   "source": [
    "cap = cv2.VideoCapture(0)\n",
    "\n",
    "# cap = cv2.VideoCapture(0, cv2.CAP_DSHOW)\n",
    "# cap.set(cv2.CAP_PROP_FRAME_WIDTH, 1280)\n",
    "# cap.set(cv2.CAP_PROP_FRAME_HEIGHT, 720)\n",
    "\n",
    "# Set mediapipe model \n",
    "with mp_holistic.Holistic(min_detection_confidence=0.5, min_tracking_confidence=0.5) as holistic:\n",
    "#     for action in actions: # if you want to loop through all actions\n",
    "\n",
    "    # Find maximum sequence for action\n",
    "    action_path = os.path.join(DATA_PATH, action)\n",
    "    start_sequence = 9999 # if you have more data than this than change it to be great or sys.maxint\n",
    "    for folder in os.listdir(action_path):\n",
    "        if not os.listdir(os.path.join(action_path, folder)):\n",
    "            if int(folder) < start_sequence:\n",
    "                start_sequence = int(folder)\n",
    "    \n",
    "    for sequence in range(start_sequence, start_sequence+no_sequences):\n",
    "        # Loop through video length aka sequence length\n",
    "        for frame_num in range(sequence_length):\n",
    "\n",
    "            # Read feed\n",
    "            ret, frame = cap.read()\n",
    "\n",
    "            # Make detections\n",
    "            image, results = mediapipe_detection(frame, holistic)\n",
    "\n",
    "            # Draw landmarks\n",
    "            draw_styled_landmarks(image, results)\n",
    "\n",
    "            # Apply wait logic\n",
    "            if frame_num == 0: \n",
    "                cv2.putText(image, 'STARTING COLLECTION', (120,200), \n",
    "                           cv2.FONT_HERSHEY_SIMPLEX, 1, (0,255, 0), 4, cv2.LINE_AA)\n",
    "                cv2.putText(image, 'Collecting frames for {} Video Number {}/{}'.format(action, sequence, start_sequence+no_sequences), (15,12), \n",
    "                           cv2.FONT_HERSHEY_SIMPLEX, 0.5, (0, 0, 255), 1, cv2.LINE_AA)\n",
    "\n",
    "                cv2.waitKey(500)\n",
    "            else: \n",
    "                cv2.putText(image, 'Collecting frames for {} Video Number {}/{}'.format(action, sequence, start_sequence+no_sequences), (15,12), \n",
    "                           cv2.FONT_HERSHEY_SIMPLEX, 0.5, (0, 0, 255), 1, cv2.LINE_AA)\n",
    "\n",
    "\n",
    "            cv2.imshow('OpenCV Feed', image)\n",
    "                \n",
    "            \n",
    "\n",
    "            # Export keypoints\n",
    "            keypoints = extract_keypoints(results)\n",
    "            npy_path = os.path.join(DATA_PATH, action, str(sequence), str(frame_num))\n",
    "            np.save(npy_path, keypoints)\n",
    "\n",
    "            # Break gracefully\n",
    "            if cv2.waitKey(10) & 0xFF == ord('q'):\n",
    "                break\n",
    "                    \n",
    "    cap.release()\n",
    "    cv2.destroyAllWindows()\n",
    "# need it? who knows\n",
    "cap.release()\n",
    "cv2.destroyAllWindows()"
   ]
  },
  {
   "cell_type": "code",
   "execution_count": null,
   "metadata": {},
   "outputs": [],
   "source": [
    "## ignore, for testing\n",
    "\n",
    "# action = 'cross_arms'\n",
    "# action_path = os.path.join(DATA_PATH, action)\n",
    "# start_sequence = 9999 # if you have more data than this than change it to be great or sys.maxint\n",
    "# for folder in os.listdir(action_path):\n",
    "#     if not os.listdir(os.path.join(action_path, folder)):\n",
    "#         if int(folder) < start_sequence:\n",
    "#             start_sequence = int(folder)\n",
    "            \n",
    "\n",
    "# rang = range(start_sequence, start_sequence+no_sequences)\n",
    "# print(f'ss: {start_sequence}')\n",
    "# print(f'min: {rang[0]}')\n",
    "# print(f'max: {rang[29]}')"
   ]
  }
 ],
 "metadata": {
  "kernelspec": {
   "display_name": "Python 3 (ipykernel)",
   "language": "python",
   "name": "python3"
  },
  "language_info": {
   "codemirror_mode": {
    "name": "ipython",
    "version": 3
   },
   "file_extension": ".py",
   "mimetype": "text/x-python",
   "name": "python",
   "nbconvert_exporter": "python",
   "pygments_lexer": "ipython3",
   "version": "3.10.9"
  }
 },
 "nbformat": 4,
 "nbformat_minor": 2
}
